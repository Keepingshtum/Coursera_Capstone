{
 "cells": [
  {
   "cell_type": "markdown",
   "metadata": {},
   "source": [
    "## Student profile analysis to identify potential accomodation locations"
   ]
  },
  {
   "cell_type": "markdown",
   "metadata": {},
   "source": [
    "Let us first import all the packages we need for analysis."
   ]
  },
  {
   "cell_type": "code",
   "execution_count": 437,
   "metadata": {},
   "outputs": [
    {
     "name": "stdout",
     "output_type": "stream",
     "text": [
      "All packages imported!\n"
     ]
    }
   ],
   "source": [
    "import requests # library to handle requests\n",
    "import pandas as pd # library for data analsysis\n",
    "import numpy as np # library to handle data in a vectorized manner\n",
    "import random # library for random number generation\n",
    "import geopandas as gpd\n",
    "import matplotlib.cm as cm\n",
    "import folium\n",
    "from sklearn.cluster import KMeans\n",
    "import matplotlib.pyplot as plt\n",
    "import seaborn as sns\n",
    "from IPython.display import Image \n",
    "from IPython.core.display import HTML \n",
    "# tranforming json file into a pandas dataframe library\n",
    "from pandas.io.json import json_normalize\n",
    "print(\"All packages imported!\")"
   ]
  },
  {
   "cell_type": "markdown",
   "metadata": {},
   "source": [
    "Alright, now let us import the raw dataset for student preferences..."
   ]
  },
  {
   "cell_type": "code",
   "execution_count": 438,
   "metadata": {},
   "outputs": [],
   "source": [
    "dfstudents=pd.read_csv('food_coded.csv')"
   ]
  },
  {
   "cell_type": "markdown",
   "metadata": {},
   "source": [
    "We shall only take the columns useful to us:"
   ]
  },
  {
   "cell_type": "code",
   "execution_count": 439,
   "metadata": {},
   "outputs": [
    {
     "name": "stderr",
     "output_type": "stream",
     "text": [
      "D:\\Anaconda\\lib\\site-packages\\ipykernel_launcher.py:2: SettingWithCopyWarning: \n",
      "A value is trying to be set on a copy of a slice from a DataFrame\n",
      "\n",
      "See the caveats in the documentation: http://pandas.pydata.org/pandas-docs/stable/indexing.html#indexing-view-versus-copy\n",
      "  \n"
     ]
    },
    {
     "data": {
      "text/html": [
       "<div>\n",
       "<style scoped>\n",
       "    .dataframe tbody tr th:only-of-type {\n",
       "        vertical-align: middle;\n",
       "    }\n",
       "\n",
       "    .dataframe tbody tr th {\n",
       "        vertical-align: top;\n",
       "    }\n",
       "\n",
       "    .dataframe thead th {\n",
       "        text-align: right;\n",
       "    }\n",
       "</style>\n",
       "<table border=\"1\" class=\"dataframe\">\n",
       "  <thead>\n",
       "    <tr style=\"text-align: right;\">\n",
       "      <th></th>\n",
       "      <th>cook</th>\n",
       "      <th>eating_out</th>\n",
       "      <th>employment</th>\n",
       "      <th>ethnic_food</th>\n",
       "      <th>exercise</th>\n",
       "      <th>fruit_day</th>\n",
       "      <th>income</th>\n",
       "      <th>on_off_campus</th>\n",
       "      <th>pay_meal_out</th>\n",
       "      <th>sports</th>\n",
       "      <th>veggies_day</th>\n",
       "    </tr>\n",
       "  </thead>\n",
       "  <tbody>\n",
       "    <tr>\n",
       "      <th>0</th>\n",
       "      <td>2.0</td>\n",
       "      <td>3</td>\n",
       "      <td>3.0</td>\n",
       "      <td>1</td>\n",
       "      <td>1.0</td>\n",
       "      <td>5</td>\n",
       "      <td>5.0</td>\n",
       "      <td>1.0</td>\n",
       "      <td>2</td>\n",
       "      <td>1.0</td>\n",
       "      <td>5</td>\n",
       "    </tr>\n",
       "    <tr>\n",
       "      <th>1</th>\n",
       "      <td>3.0</td>\n",
       "      <td>2</td>\n",
       "      <td>2.0</td>\n",
       "      <td>4</td>\n",
       "      <td>1.0</td>\n",
       "      <td>4</td>\n",
       "      <td>4.0</td>\n",
       "      <td>1.0</td>\n",
       "      <td>4</td>\n",
       "      <td>1.0</td>\n",
       "      <td>4</td>\n",
       "    </tr>\n",
       "    <tr>\n",
       "      <th>2</th>\n",
       "      <td>1.0</td>\n",
       "      <td>2</td>\n",
       "      <td>3.0</td>\n",
       "      <td>5</td>\n",
       "      <td>2.0</td>\n",
       "      <td>5</td>\n",
       "      <td>6.0</td>\n",
       "      <td>2.0</td>\n",
       "      <td>3</td>\n",
       "      <td>2.0</td>\n",
       "      <td>5</td>\n",
       "    </tr>\n",
       "    <tr>\n",
       "      <th>3</th>\n",
       "      <td>2.0</td>\n",
       "      <td>2</td>\n",
       "      <td>3.0</td>\n",
       "      <td>5</td>\n",
       "      <td>3.0</td>\n",
       "      <td>4</td>\n",
       "      <td>6.0</td>\n",
       "      <td>1.0</td>\n",
       "      <td>2</td>\n",
       "      <td>2.0</td>\n",
       "      <td>3</td>\n",
       "    </tr>\n",
       "    <tr>\n",
       "      <th>4</th>\n",
       "      <td>1.0</td>\n",
       "      <td>2</td>\n",
       "      <td>2.0</td>\n",
       "      <td>4</td>\n",
       "      <td>1.0</td>\n",
       "      <td>4</td>\n",
       "      <td>6.0</td>\n",
       "      <td>1.0</td>\n",
       "      <td>4</td>\n",
       "      <td>1.0</td>\n",
       "      <td>4</td>\n",
       "    </tr>\n",
       "  </tbody>\n",
       "</table>\n",
       "</div>"
      ],
      "text/plain": [
       "   cook  eating_out  employment  ethnic_food  exercise  fruit_day  income  \\\n",
       "0   2.0           3         3.0            1       1.0          5     5.0   \n",
       "1   3.0           2         2.0            4       1.0          4     4.0   \n",
       "2   1.0           2         3.0            5       2.0          5     6.0   \n",
       "3   2.0           2         3.0            5       3.0          4     6.0   \n",
       "4   1.0           2         2.0            4       1.0          4     6.0   \n",
       "\n",
       "   on_off_campus  pay_meal_out  sports  veggies_day  \n",
       "0            1.0             2     1.0            5  \n",
       "1            1.0             4     1.0            4  \n",
       "2            2.0             3     2.0            5  \n",
       "3            1.0             2     2.0            3  \n",
       "4            1.0             4     1.0            4  "
      ]
     },
     "execution_count": 439,
     "metadata": {},
     "output_type": "execute_result"
    }
   ],
   "source": [
    "dfclean=dfstudents[['cook','eating_out','employment','ethnic_food','exercise','fruit_day','income','on_off_campus','pay_meal_out','sports','veggies_day']]\n",
    "dfclean.dropna(axis=0,inplace=True)\n",
    "dfclean.head()"
   ]
  },
  {
   "cell_type": "markdown",
   "metadata": {},
   "source": [
    "Let us visualise the distrubtion of data with a boxplot:"
   ]
  },
  {
   "cell_type": "code",
   "execution_count": 440,
   "metadata": {},
   "outputs": [
    {
     "data": {
      "image/png": "[encoded data removed]",
      "text/plain": [
       "<Figure size 1440x720 with 1 Axes>"
      ]
     },
     "metadata": {
      "needs_background": "light"
     },
     "output_type": "display_data"
    }
   ],
   "source": [
    "plt.figure(figsize=(20, 10))\n",
    "#plt.xticks(rotation='vertical')\n",
    "sns.boxplot\n",
    "\n",
    "ax = sns.boxplot(data = dfclean)\n",
    "ax.tick_params(labelsize=20)\n",
    "plt.xticks(rotation=45, ha='right')\n",
    "\n",
    "plt.show()"
   ]
  },
  {
   "cell_type": "code",
   "execution_count": 441,
   "metadata": {},
   "outputs": [
    {
     "name": "stderr",
     "output_type": "stream",
     "text": [
      "D:\\Anaconda\\lib\\site-packages\\ipykernel_launcher.py:6: SettingWithCopyWarning: \n",
      "A value is trying to be set on a copy of a slice from a DataFrame.\n",
      "Try using .loc[row_indexer,col_indexer] = value instead\n",
      "\n",
      "See the caveats in the documentation: http://pandas.pydata.org/pandas-docs/stable/indexing.html#indexing-view-versus-copy\n",
      "  \n"
     ]
    }
   ],
   "source": [
    "# set number of clusters\n",
    "kclusters = 3\n",
    "\n",
    "# run k-means clustering\n",
    "kmeans = KMeans(n_clusters=kclusters, random_state=0).fit(dfclean)\n",
    "dfclean['Cluster']=kmeans.labels_"
   ]
  },
  {
   "cell_type": "code",
   "execution_count": 442,
   "metadata": {},
   "outputs": [
    {
     "data": {
      "image/png": "[encoded data removed]",
      "text/plain": [
       "<Figure size 1440x720 with 3 Axes>"
      ]
     },
     "metadata": {
      "needs_background": "light"
     },
     "output_type": "display_data"
    }
   ],
   "source": [
    "fig, axes = plt.subplots(1,kclusters, figsize=(20, 10), sharey=True)\n",
    "axes[0].set_ylabel('Coded Values', fontsize=25)\n",
    "\n",
    "for k in range(kclusters):\n",
    "     plt.sca(axes[k])\n",
    "     plt.xticks(rotation=45,ha='right')\n",
    "     sns.boxplot(data = dfclean[dfclean['Cluster'] == k].drop('Cluster',1), ax=axes[k])\n",
    "        \n",
    "plt.show()"
   ]
  },
  {
   "cell_type": "markdown",
   "metadata": {},
   "source": [
    "**Possible insights:**\n",
    "\n",
    "Kmeans:\n",
    "2 clusters: No clear demarcation is seen; we can't discriminate on 2 categories alone.\n",
    "\n",
    "3 clusters: Now we see three clear groups: One high income group which insists on eating healthy, the other is more relaxed in diet.\n",
    "\n",
    "The low income group has its own profile, as discussed in insights.\n",
    "\n",
    "For higher numbers of clusters, it becomes difficult to draw any concrete conclusions.\n",
    "   \n",
    "\n",
    "\n",
    "High income students in general are:\n",
    "\n",
    "1.>Much more likely to stay on campus.\n",
    "\n",
    "2.>Less likely to cook.\n",
    "\n",
    "3.>Eat out more often.\n",
    "\n",
    "In addition, a subset of higher income students:\n",
    "1.>Eat out less often.\n",
    "\n",
    "2.>Have a healthier, more varied diet in general. (Eat ethnic food, fruits, vegetables etc.)\n",
    "\n",
    "Lower income students are more likely to:\n",
    "\n",
    "1.>Eat more vegetables\n",
    "\n",
    "2.>Eat more fruits.\n",
    "\n",
    "3.>More likely to cook, so more likely to stay off campus.\n",
    "\n",
    "4.>Obviously, pay less for meals out.\n"
   ]
  },
  {
   "cell_type": "markdown",
   "metadata": {},
   "source": [
    "Essentially, we need to think about accomodation for 2 types of students, low income and high income(varied diet).\n",
    "\n",
    "The high income(fixed diet) students will ideally stay on campus, so they don't have to be taken into account."
   ]
  },
  {
   "cell_type": "code",
   "execution_count": 443,
   "metadata": {},
   "outputs": [],
   "source": [
    "mapdf=gpd.read_file('Bangalore.GeoJSON')"
   ]
  },
  {
   "cell_type": "code",
   "execution_count": 444,
   "metadata": {},
   "outputs": [],
   "source": [
    "mapgeo=r'Bangalore.GeoJSON'"
   ]
  },
  {
   "cell_type": "code",
   "execution_count": 445,
   "metadata": {},
   "outputs": [
    {
     "data": {
      "text/html": [
       "<div>\n",
       "<style scoped>\n",
       "    .dataframe tbody tr th:only-of-type {\n",
       "        vertical-align: middle;\n",
       "    }\n",
       "\n",
       "    .dataframe tbody tr th {\n",
       "        vertical-align: top;\n",
       "    }\n",
       "\n",
       "    .dataframe thead th {\n",
       "        text-align: right;\n",
       "    }\n",
       "</style>\n",
       "<table border=\"1\" class=\"dataframe\">\n",
       "  <thead>\n",
       "    <tr style=\"text-align: right;\">\n",
       "      <th></th>\n",
       "      <th>OBJECTID</th>\n",
       "      <th>ASS_CONST_</th>\n",
       "      <th>ASS_CONST1</th>\n",
       "      <th>WARD_NO</th>\n",
       "      <th>WARD_NAME</th>\n",
       "      <th>POP_M</th>\n",
       "      <th>POP_F</th>\n",
       "      <th>POP_SC</th>\n",
       "      <th>POP_ST</th>\n",
       "      <th>POP_TOTAL</th>\n",
       "      <th>AREA_SQ_KM</th>\n",
       "      <th>LAT</th>\n",
       "      <th>LON</th>\n",
       "      <th>RESERVATIO</th>\n",
       "      <th>geometry</th>\n",
       "    </tr>\n",
       "  </thead>\n",
       "  <tbody>\n",
       "    <tr>\n",
       "      <th>0</th>\n",
       "      <td>1</td>\n",
       "      <td>150</td>\n",
       "      <td>Yelahanka</td>\n",
       "      <td>2.0</td>\n",
       "      <td>Chowdeswari Ward</td>\n",
       "      <td>10402.0</td>\n",
       "      <td>9224.0</td>\n",
       "      <td>2630.0</td>\n",
       "      <td>286.0</td>\n",
       "      <td>19626.0</td>\n",
       "      <td>7.06</td>\n",
       "      <td>13.121709</td>\n",
       "      <td>77.580422</td>\n",
       "      <td>General</td>\n",
       "      <td>(POLYGON ((77.59229387222348 13.09719619380583...</td>\n",
       "    </tr>\n",
       "    <tr>\n",
       "      <th>1</th>\n",
       "      <td>2</td>\n",
       "      <td>150</td>\n",
       "      <td>Yelahanka</td>\n",
       "      <td>3.0</td>\n",
       "      <td>Atturu</td>\n",
       "      <td>13129.0</td>\n",
       "      <td>10891.0</td>\n",
       "      <td>2921.0</td>\n",
       "      <td>665.0</td>\n",
       "      <td>24020.0</td>\n",
       "      <td>10.15</td>\n",
       "      <td>13.102805</td>\n",
       "      <td>77.560038</td>\n",
       "      <td>General (Women)</td>\n",
       "      <td>(POLYGON ((77.56862025574898 13.12704949189955...</td>\n",
       "    </tr>\n",
       "    <tr>\n",
       "      <th>2</th>\n",
       "      <td>3</td>\n",
       "      <td>150</td>\n",
       "      <td>Yelahanka</td>\n",
       "      <td>4.0</td>\n",
       "      <td>Yelahanka Satellite Town</td>\n",
       "      <td>13457.0</td>\n",
       "      <td>12325.0</td>\n",
       "      <td>3687.0</td>\n",
       "      <td>601.0</td>\n",
       "      <td>25782.0</td>\n",
       "      <td>4.90</td>\n",
       "      <td>13.090987</td>\n",
       "      <td>77.583925</td>\n",
       "      <td>Backward Category - A</td>\n",
       "      <td>(POLYGON ((77.5909446804082 13.09842185670555,...</td>\n",
       "    </tr>\n",
       "    <tr>\n",
       "      <th>3</th>\n",
       "      <td>4</td>\n",
       "      <td>151</td>\n",
       "      <td>K.R. Puram</td>\n",
       "      <td>51.0</td>\n",
       "      <td>Vijnanapura</td>\n",
       "      <td>18118.0</td>\n",
       "      <td>16969.0</td>\n",
       "      <td>6454.0</td>\n",
       "      <td>228.0</td>\n",
       "      <td>35087.0</td>\n",
       "      <td>2.05</td>\n",
       "      <td>13.006063</td>\n",
       "      <td>77.669565</td>\n",
       "      <td>Scheduled Caste</td>\n",
       "      <td>(POLYGON ((77.6768274556463 13.01146676329768,...</td>\n",
       "    </tr>\n",
       "    <tr>\n",
       "      <th>4</th>\n",
       "      <td>5</td>\n",
       "      <td>151</td>\n",
       "      <td>K.R. Puram</td>\n",
       "      <td>53.0</td>\n",
       "      <td>Basavanapura</td>\n",
       "      <td>11494.0</td>\n",
       "      <td>10518.0</td>\n",
       "      <td>4115.0</td>\n",
       "      <td>325.0</td>\n",
       "      <td>22012.0</td>\n",
       "      <td>6.28</td>\n",
       "      <td>13.016847</td>\n",
       "      <td>77.715456</td>\n",
       "      <td>General</td>\n",
       "      <td>(POLYGON ((77.72899303711208 13.02060553657251...</td>\n",
       "    </tr>\n",
       "  </tbody>\n",
       "</table>\n",
       "</div>"
      ],
      "text/plain": [
       "   OBJECTID ASS_CONST_  ASS_CONST1  WARD_NO                 WARD_NAME  \\\n",
       "0         1        150   Yelahanka      2.0          Chowdeswari Ward   \n",
       "1         2        150   Yelahanka      3.0                    Atturu   \n",
       "2         3        150   Yelahanka      4.0  Yelahanka Satellite Town   \n",
       "3         4        151  K.R. Puram     51.0               Vijnanapura   \n",
       "4         5        151  K.R. Puram     53.0              Basavanapura   \n",
       "\n",
       "     POP_M    POP_F  POP_SC  POP_ST  POP_TOTAL  AREA_SQ_KM        LAT  \\\n",
       "0  10402.0   9224.0  2630.0   286.0    19626.0        7.06  13.121709   \n",
       "1  13129.0  10891.0  2921.0   665.0    24020.0       10.15  13.102805   \n",
       "2  13457.0  12325.0  3687.0   601.0    25782.0        4.90  13.090987   \n",
       "3  18118.0  16969.0  6454.0   228.0    35087.0        2.05  13.006063   \n",
       "4  11494.0  10518.0  4115.0   325.0    22012.0        6.28  13.016847   \n",
       "\n",
       "         LON             RESERVATIO  \\\n",
       "0  77.580422                General   \n",
       "1  77.560038        General (Women)   \n",
       "2  77.583925  Backward Category - A   \n",
       "3  77.669565        Scheduled Caste   \n",
       "4  77.715456                General   \n",
       "\n",
       "                                            geometry  \n",
       "0  (POLYGON ((77.59229387222348 13.09719619380583...  \n",
       "1  (POLYGON ((77.56862025574898 13.12704949189955...  \n",
       "2  (POLYGON ((77.5909446804082 13.09842185670555,...  \n",
       "3  (POLYGON ((77.6768274556463 13.01146676329768,...  \n",
       "4  (POLYGON ((77.72899303711208 13.02060553657251...  "
      ]
     },
     "execution_count": 445,
     "metadata": {},
     "output_type": "execute_result"
    }
   ],
   "source": [
    "mapdf.head()"
   ]
  },
  {
   "cell_type": "markdown",
   "metadata": {},
   "source": [
    "My analysis will be on the city I currently reside in, i.e Bangalore, India!\n",
    "\n",
    "Specifically, I will begin by looking at the housing areas around my college.\n",
    "\n",
    "We begin by defining the parameters of our foursquare seach query:"
   ]
  },
  {
   "cell_type": "code",
   "execution_count": 446,
   "metadata": {},
   "outputs": [],
   "source": [
    "search_query = 'Apartment' #Search for residential locations\n",
    "radius = 18000 #Set the radius to 18 kilometres due to traffic constraints\n",
    "latitude=13.133521#College location\n",
    "longitude=77.567135"
   ]
  },
  {
   "cell_type": "markdown",
   "metadata": {},
   "source": [
    "Now to define our foursquare credentials:"
   ]
  },
  {
   "cell_type": "code",
   "execution_count": 447,
   "metadata": {},
   "outputs": [],
   "source": [
    "CLIENT_ID = '5O2OQN1HOFBER5CQ4VJSEBU3PZ54Z3T31EGTNFJ0V04KSKZI'\n",
    "CLIENT_SECRET = 'H2KIZ3QZRGZD2GVCOSSTL04SQ3N0Y5QWEWQKPQ1VTPQNF24R' \n",
    "VERSION = '20180604'\n",
    "LIMIT = 200"
   ]
  },
  {
   "cell_type": "markdown",
   "metadata": {},
   "source": [
    "Now to define the url:"
   ]
  },
  {
   "cell_type": "code",
   "execution_count": 448,
   "metadata": {},
   "outputs": [],
   "source": [
    "url = 'https://api.foursquare.com/v2/venues/search?client_id={}&client_secret={}&ll={},{}&v={}&query={}&radius={}&limit={}'.format(CLIENT_ID, CLIENT_SECRET, latitude, longitude, VERSION, search_query, radius, LIMIT)"
   ]
  },
  {
   "cell_type": "markdown",
   "metadata": {},
   "source": [
    "Now, we pull the results of the query into a json file."
   ]
  },
  {
   "cell_type": "code",
   "execution_count": 449,
   "metadata": {},
   "outputs": [],
   "source": [
    "results = requests.get(url).json()"
   ]
  },
  {
   "cell_type": "code",
   "execution_count": 450,
   "metadata": {},
   "outputs": [
    {
     "data": {
      "text/html": [
       "<div>\n",
       "<style scoped>\n",
       "    .dataframe tbody tr th:only-of-type {\n",
       "        vertical-align: middle;\n",
       "    }\n",
       "\n",
       "    .dataframe tbody tr th {\n",
       "        vertical-align: top;\n",
       "    }\n",
       "\n",
       "    .dataframe thead th {\n",
       "        text-align: right;\n",
       "    }\n",
       "</style>\n",
       "<table border=\"1\" class=\"dataframe\">\n",
       "  <thead>\n",
       "    <tr style=\"text-align: right;\">\n",
       "      <th></th>\n",
       "      <th>categories</th>\n",
       "      <th>hasPerk</th>\n",
       "      <th>id</th>\n",
       "      <th>location.address</th>\n",
       "      <th>location.cc</th>\n",
       "      <th>location.city</th>\n",
       "      <th>location.country</th>\n",
       "      <th>location.crossStreet</th>\n",
       "      <th>location.distance</th>\n",
       "      <th>location.formattedAddress</th>\n",
       "      <th>location.labeledLatLngs</th>\n",
       "      <th>location.lat</th>\n",
       "      <th>location.lng</th>\n",
       "      <th>location.neighborhood</th>\n",
       "      <th>location.postalCode</th>\n",
       "      <th>location.state</th>\n",
       "      <th>name</th>\n",
       "      <th>referralId</th>\n",
       "    </tr>\n",
       "  </thead>\n",
       "  <tbody>\n",
       "    <tr>\n",
       "      <th>0</th>\n",
       "      <td>[{'id': '4d954b06a243a5684965b473', 'name': 'R...</td>\n",
       "      <td>False</td>\n",
       "      <td>4db7040e0437fa536a641766</td>\n",
       "      <td>Banaswadi Main Rd</td>\n",
       "      <td>IN</td>\n",
       "      <td>Bangalore</td>\n",
       "      <td>India</td>\n",
       "      <td>hight street</td>\n",
       "      <td>16096</td>\n",
       "      <td>[Banaswadi Main Rd (hight street), Bangalore, ...</td>\n",
       "      <td>[{'label': 'display', 'lat': 13.00017043034296...</td>\n",
       "      <td>13.000170</td>\n",
       "      <td>77.624545</td>\n",
       "      <td>NaN</td>\n",
       "      <td>NaN</td>\n",
       "      <td>Karnātaka</td>\n",
       "      <td>Apartment Banaswadi main road cross hight stre...</td>\n",
       "      <td>v-1567142284</td>\n",
       "    </tr>\n",
       "    <tr>\n",
       "      <th>1</th>\n",
       "      <td>[{'id': '4d954b06a243a5684965b473', 'name': 'R...</td>\n",
       "      <td>False</td>\n",
       "      <td>594f23a82be42528bc56a739</td>\n",
       "      <td>NaN</td>\n",
       "      <td>IN</td>\n",
       "      <td>Bangalore</td>\n",
       "      <td>India</td>\n",
       "      <td>NaN</td>\n",
       "      <td>2242</td>\n",
       "      <td>[Bangalore 560064, Karnātaka, India]</td>\n",
       "      <td>[{'label': 'display', 'lat': 13.113421, 'lng':...</td>\n",
       "      <td>13.113421</td>\n",
       "      <td>77.568541</td>\n",
       "      <td>NaN</td>\n",
       "      <td>560064</td>\n",
       "      <td>Karnātaka</td>\n",
       "      <td>JS Tulips Apartment</td>\n",
       "      <td>v-1567142284</td>\n",
       "    </tr>\n",
       "    <tr>\n",
       "      <th>2</th>\n",
       "      <td>[{'id': '4d954b06a243a5684965b473', 'name': 'R...</td>\n",
       "      <td>False</td>\n",
       "      <td>51319d59e4b04a7c6799abe4</td>\n",
       "      <td>Ananthapura Road</td>\n",
       "      <td>IN</td>\n",
       "      <td>Bangalore</td>\n",
       "      <td>India</td>\n",
       "      <td>Yelahanka New Town</td>\n",
       "      <td>2120</td>\n",
       "      <td>[Ananthapura Road (Yelahanka New Town), Bangal...</td>\n",
       "      <td>[{'label': 'display', 'lat': 13.11488202331476...</td>\n",
       "      <td>13.114882</td>\n",
       "      <td>77.563090</td>\n",
       "      <td>NaN</td>\n",
       "      <td>560064</td>\n",
       "      <td>Karnātaka</td>\n",
       "      <td>GK Lakeview Apartment</td>\n",
       "      <td>v-1567142284</td>\n",
       "    </tr>\n",
       "    <tr>\n",
       "      <th>3</th>\n",
       "      <td>[{'id': '4d954b06a243a5684965b473', 'name': 'R...</td>\n",
       "      <td>False</td>\n",
       "      <td>56133261498e95c619c830f8</td>\n",
       "      <td>NaN</td>\n",
       "      <td>IN</td>\n",
       "      <td>Bangalore</td>\n",
       "      <td>India</td>\n",
       "      <td>NaN</td>\n",
       "      <td>10541</td>\n",
       "      <td>[Bangalore, Karnātaka, India]</td>\n",
       "      <td>[{'label': 'display', 'lat': 13.03949179789228...</td>\n",
       "      <td>13.039492</td>\n",
       "      <td>77.555590</td>\n",
       "      <td>NaN</td>\n",
       "      <td>NaN</td>\n",
       "      <td>Karnātaka</td>\n",
       "      <td>Dwellington Apartment</td>\n",
       "      <td>v-1567142284</td>\n",
       "    </tr>\n",
       "    <tr>\n",
       "      <th>4</th>\n",
       "      <td>[{'id': '4bf58dd8d48988d12b951735', 'name': 'B...</td>\n",
       "      <td>False</td>\n",
       "      <td>52dd2fd2498ebd1fc2edf286</td>\n",
       "      <td>NaN</td>\n",
       "      <td>IN</td>\n",
       "      <td>NaN</td>\n",
       "      <td>India</td>\n",
       "      <td>NaN</td>\n",
       "      <td>3954</td>\n",
       "      <td>[India]</td>\n",
       "      <td>[{'label': 'display', 'lat': 13.09824, 'lng': ...</td>\n",
       "      <td>13.098240</td>\n",
       "      <td>77.571384</td>\n",
       "      <td>NaN</td>\n",
       "      <td>NaN</td>\n",
       "      <td>NaN</td>\n",
       "      <td>apartments stop</td>\n",
       "      <td>v-1567142284</td>\n",
       "    </tr>\n",
       "  </tbody>\n",
       "</table>\n",
       "</div>"
      ],
      "text/plain": [
       "                                          categories  hasPerk  \\\n",
       "0  [{'id': '4d954b06a243a5684965b473', 'name': 'R...    False   \n",
       "1  [{'id': '4d954b06a243a5684965b473', 'name': 'R...    False   \n",
       "2  [{'id': '4d954b06a243a5684965b473', 'name': 'R...    False   \n",
       "3  [{'id': '4d954b06a243a5684965b473', 'name': 'R...    False   \n",
       "4  [{'id': '4bf58dd8d48988d12b951735', 'name': 'B...    False   \n",
       "\n",
       "                         id   location.address location.cc location.city  \\\n",
       "0  4db7040e0437fa536a641766  Banaswadi Main Rd          IN     Bangalore   \n",
       "1  594f23a82be42528bc56a739                NaN          IN     Bangalore   \n",
       "2  51319d59e4b04a7c6799abe4   Ananthapura Road          IN     Bangalore   \n",
       "3  56133261498e95c619c830f8                NaN          IN     Bangalore   \n",
       "4  52dd2fd2498ebd1fc2edf286                NaN          IN           NaN   \n",
       "\n",
       "  location.country location.crossStreet  location.distance  \\\n",
       "0            India         hight street              16096   \n",
       "1            India                  NaN               2242   \n",
       "2            India   Yelahanka New Town               2120   \n",
       "3            India                  NaN              10541   \n",
       "4            India                  NaN               3954   \n",
       "\n",
       "                           location.formattedAddress  \\\n",
       "0  [Banaswadi Main Rd (hight street), Bangalore, ...   \n",
       "1               [Bangalore 560064, Karnātaka, India]   \n",
       "2  [Ananthapura Road (Yelahanka New Town), Bangal...   \n",
       "3                      [Bangalore, Karnātaka, India]   \n",
       "4                                            [India]   \n",
       "\n",
       "                             location.labeledLatLngs  location.lat  \\\n",
       "0  [{'label': 'display', 'lat': 13.00017043034296...     13.000170   \n",
       "1  [{'label': 'display', 'lat': 13.113421, 'lng':...     13.113421   \n",
       "2  [{'label': 'display', 'lat': 13.11488202331476...     13.114882   \n",
       "3  [{'label': 'display', 'lat': 13.03949179789228...     13.039492   \n",
       "4  [{'label': 'display', 'lat': 13.09824, 'lng': ...     13.098240   \n",
       "\n",
       "   location.lng location.neighborhood location.postalCode location.state  \\\n",
       "0     77.624545                   NaN                 NaN      Karnātaka   \n",
       "1     77.568541                   NaN              560064      Karnātaka   \n",
       "2     77.563090                   NaN              560064      Karnātaka   \n",
       "3     77.555590                   NaN                 NaN      Karnātaka   \n",
       "4     77.571384                   NaN                 NaN            NaN   \n",
       "\n",
       "                                                name    referralId  \n",
       "0  Apartment Banaswadi main road cross hight stre...  v-1567142284  \n",
       "1                                JS Tulips Apartment  v-1567142284  \n",
       "2                              GK Lakeview Apartment  v-1567142284  \n",
       "3                              Dwellington Apartment  v-1567142284  \n",
       "4                                    apartments stop  v-1567142284  "
      ]
     },
     "execution_count": 450,
     "metadata": {},
     "output_type": "execute_result"
    }
   ],
   "source": [
    "# assign relevant part of JSON to venues\n",
    "venues = results['response']['venues']\n",
    "\n",
    "# tranform venues into a dataframe\n",
    "dataframe = json_normalize(venues)\n",
    "dataframe.head()"
   ]
  },
  {
   "cell_type": "markdown",
   "metadata": {},
   "source": [
    "Some categories don't mean much to us, such as ID and referralID. Let's only take the fields relevant to us:"
   ]
  },
  {
   "cell_type": "code",
   "execution_count": 484,
   "metadata": {},
   "outputs": [
    {
     "data": {
      "text/html": [
       "<div>\n",
       "<style scoped>\n",
       "    .dataframe tbody tr th:only-of-type {\n",
       "        vertical-align: middle;\n",
       "    }\n",
       "\n",
       "    .dataframe tbody tr th {\n",
       "        vertical-align: top;\n",
       "    }\n",
       "\n",
       "    .dataframe thead th {\n",
       "        text-align: right;\n",
       "    }\n",
       "</style>\n",
       "<table border=\"1\" class=\"dataframe\">\n",
       "  <thead>\n",
       "    <tr style=\"text-align: right;\">\n",
       "      <th></th>\n",
       "      <th>name</th>\n",
       "      <th>categories</th>\n",
       "      <th>address</th>\n",
       "      <th>crossStreet</th>\n",
       "      <th>distance</th>\n",
       "      <th>formattedAddress</th>\n",
       "      <th>labeledLatLngs</th>\n",
       "      <th>lat</th>\n",
       "      <th>lng</th>\n",
       "      <th>postalCode</th>\n",
       "      <th>id</th>\n",
       "    </tr>\n",
       "  </thead>\n",
       "  <tbody>\n",
       "    <tr>\n",
       "      <th>0</th>\n",
       "      <td>Apartment Banaswadi main road cross hight stre...</td>\n",
       "      <td>Residential Building (Apartment / Condo)</td>\n",
       "      <td>Banaswadi Main Rd</td>\n",
       "      <td>hight street</td>\n",
       "      <td>16096</td>\n",
       "      <td>[Banaswadi Main Rd (hight street), Bangalore, ...</td>\n",
       "      <td>[{'label': 'display', 'lat': 13.00017043034296...</td>\n",
       "      <td>13.000170</td>\n",
       "      <td>77.624545</td>\n",
       "      <td>NaN</td>\n",
       "      <td>4db7040e0437fa536a641766</td>\n",
       "    </tr>\n",
       "    <tr>\n",
       "      <th>1</th>\n",
       "      <td>JS Tulips Apartment</td>\n",
       "      <td>Residential Building (Apartment / Condo)</td>\n",
       "      <td>NaN</td>\n",
       "      <td>NaN</td>\n",
       "      <td>2242</td>\n",
       "      <td>[Bangalore 560064, Karnātaka, India]</td>\n",
       "      <td>[{'label': 'display', 'lat': 13.113421, 'lng':...</td>\n",
       "      <td>13.113421</td>\n",
       "      <td>77.568541</td>\n",
       "      <td>560064</td>\n",
       "      <td>594f23a82be42528bc56a739</td>\n",
       "    </tr>\n",
       "    <tr>\n",
       "      <th>2</th>\n",
       "      <td>GK Lakeview Apartment</td>\n",
       "      <td>Residential Building (Apartment / Condo)</td>\n",
       "      <td>Ananthapura Road</td>\n",
       "      <td>Yelahanka New Town</td>\n",
       "      <td>2120</td>\n",
       "      <td>[Ananthapura Road (Yelahanka New Town), Bangal...</td>\n",
       "      <td>[{'label': 'display', 'lat': 13.11488202331476...</td>\n",
       "      <td>13.114882</td>\n",
       "      <td>77.563090</td>\n",
       "      <td>560064</td>\n",
       "      <td>51319d59e4b04a7c6799abe4</td>\n",
       "    </tr>\n",
       "    <tr>\n",
       "      <th>3</th>\n",
       "      <td>Dwellington Apartment</td>\n",
       "      <td>Residential Building (Apartment / Condo)</td>\n",
       "      <td>NaN</td>\n",
       "      <td>NaN</td>\n",
       "      <td>10541</td>\n",
       "      <td>[Bangalore, Karnātaka, India]</td>\n",
       "      <td>[{'label': 'display', 'lat': 13.03949179789228...</td>\n",
       "      <td>13.039492</td>\n",
       "      <td>77.555590</td>\n",
       "      <td>NaN</td>\n",
       "      <td>56133261498e95c619c830f8</td>\n",
       "    </tr>\n",
       "    <tr>\n",
       "      <th>5</th>\n",
       "      <td>Shriram Sahaana Apartments</td>\n",
       "      <td>Residential Building (Apartment / Condo)</td>\n",
       "      <td>Yelahanka</td>\n",
       "      <td>1st Cross Suryavamshi Layout</td>\n",
       "      <td>629</td>\n",
       "      <td>[Yelahanka (1st Cross Suryavamshi Layout), Ban...</td>\n",
       "      <td>[{'label': 'display', 'lat': 13.13572688743380...</td>\n",
       "      <td>13.135727</td>\n",
       "      <td>77.572482</td>\n",
       "      <td>560064</td>\n",
       "      <td>5cb56f988c35dc002c58ad07</td>\n",
       "    </tr>\n",
       "  </tbody>\n",
       "</table>\n",
       "</div>"
      ],
      "text/plain": [
       "                                                name  \\\n",
       "0  Apartment Banaswadi main road cross hight stre...   \n",
       "1                                JS Tulips Apartment   \n",
       "2                              GK Lakeview Apartment   \n",
       "3                              Dwellington Apartment   \n",
       "5                         Shriram Sahaana Apartments   \n",
       "\n",
       "                                 categories            address  \\\n",
       "0  Residential Building (Apartment / Condo)  Banaswadi Main Rd   \n",
       "1  Residential Building (Apartment / Condo)                NaN   \n",
       "2  Residential Building (Apartment / Condo)   Ananthapura Road   \n",
       "3  Residential Building (Apartment / Condo)                NaN   \n",
       "5  Residential Building (Apartment / Condo)          Yelahanka   \n",
       "\n",
       "                    crossStreet  distance  \\\n",
       "0                  hight street     16096   \n",
       "1                           NaN      2242   \n",
       "2            Yelahanka New Town      2120   \n",
       "3                           NaN     10541   \n",
       "5  1st Cross Suryavamshi Layout       629   \n",
       "\n",
       "                                    formattedAddress  \\\n",
       "0  [Banaswadi Main Rd (hight street), Bangalore, ...   \n",
       "1               [Bangalore 560064, Karnātaka, India]   \n",
       "2  [Ananthapura Road (Yelahanka New Town), Bangal...   \n",
       "3                      [Bangalore, Karnātaka, India]   \n",
       "5  [Yelahanka (1st Cross Suryavamshi Layout), Ban...   \n",
       "\n",
       "                                      labeledLatLngs        lat        lng  \\\n",
       "0  [{'label': 'display', 'lat': 13.00017043034296...  13.000170  77.624545   \n",
       "1  [{'label': 'display', 'lat': 13.113421, 'lng':...  13.113421  77.568541   \n",
       "2  [{'label': 'display', 'lat': 13.11488202331476...  13.114882  77.563090   \n",
       "3  [{'label': 'display', 'lat': 13.03949179789228...  13.039492  77.555590   \n",
       "5  [{'label': 'display', 'lat': 13.13572688743380...  13.135727  77.572482   \n",
       "\n",
       "  postalCode                        id  \n",
       "0        NaN  4db7040e0437fa536a641766  \n",
       "1     560064  594f23a82be42528bc56a739  \n",
       "2     560064  51319d59e4b04a7c6799abe4  \n",
       "3        NaN  56133261498e95c619c830f8  \n",
       "5     560064  5cb56f988c35dc002c58ad07  "
      ]
     },
     "execution_count": 484,
     "metadata": {},
     "output_type": "execute_result"
    }
   ],
   "source": [
    "filtered_columns = ['name', 'categories'] + [col for col in dataframe.columns if col.startswith('location.')] + ['id']\n",
    "dataframe_filtered = dataframe.loc[:, filtered_columns]\n",
    "\n",
    "# function that extracts the category of the venue\n",
    "def get_category_type(row):\n",
    "    try:\n",
    "        categories_list = row['categories']\n",
    "    except:\n",
    "        categories_list = row['venue.categories']\n",
    "        \n",
    "    if len(categories_list) == 0:\n",
    "        return None\n",
    "    else:\n",
    "        return categories_list[0]['name']\n",
    "\n",
    "# filter the category for each row\n",
    "dataframe_filtered['categories'] = dataframe_filtered.apply(get_category_type, axis=1)\n",
    "\n",
    "# clean column names by keeping only last term\n",
    "dataframe_filtered.columns = [column.split('.')[-1] for column in dataframe_filtered.columns]\n",
    "dataframe_filtered.drop([4,17,18,21,24,30,43],axis=0,inplace=True) #remove some unwanted locations like hotels\n",
    "dataframe_filtered.drop(['cc','country','state','city','neighborhood'],axis=1,inplace=True) #no need for those columns as we know we're in Bangalore,IN\n",
    "dataframe_filtered.head()"
   ]
  },
  {
   "cell_type": "markdown",
   "metadata": {},
   "source": [
    "Let us plot all these potential locations on a map of Bangalore:"
   ]
  },
  {
   "cell_type": "code",
   "execution_count": 485,
   "metadata": {},
   "outputs": [
    {
     "data": {
      "text/html": [
       "<div style=\"width:100%;\"><div style=\"position:relative;width:100%;height:0;padding-bottom:60%;\"><iframe src=\"data:text/html;charset=utf-8;base64,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\" style=\"position:absolute;width:100%;height:100%;left:0;top:0;border:none !important;\" allowfullscreen webkitallowfullscreen mozallowfullscreen></iframe></div></div>"
      ],
      "text/plain": [
       "<folium.folium.Map at 0x1b52b388f60>"
      ]
     },
     "execution_count": 485,
     "metadata": {},
     "output_type": "execute_result"
    }
   ],
   "source": [
    "#define coordinates of the college\n",
    "map_bang=folium.Map(location=[12.971599,77.594566],zoom_start=12)\n",
    "# instantiate a feature group for the incidents in the dataframe\n",
    "locations = folium.map.FeatureGroup()\n",
    "\n",
    "latitudes = list(dataframe_filtered.lat)\n",
    "longitudes = list( dataframe_filtered.lng)\n",
    "labels = list(dataframe_filtered.name)\n",
    "\n",
    "for lat, lng, label in zip(latitudes, longitudes, labels):\n",
    "    folium.Marker([lat, lng], popup=label).add_to(map_bang)    \n",
    "    \n",
    "# add incidents to map\n",
    "map_bang.add_child(locations)\n",
    "\n",
    "# add incidents to map\n",
    "map_bang.add_child(locations)\n",
    "\n",
    "map_bang"
   ]
  },
  {
   "cell_type": "markdown",
   "metadata": {},
   "source": [
    "Now, let's figure out which locations are ideal for which kinds of student. \n",
    "\n",
    "We will keep in mind the fact that the lower income students need a steady supply of fresh fruits, while the high income students need plenty of restaurant options to choose from."
   ]
  },
  {
   "cell_type": "code",
   "execution_count": 475,
   "metadata": {},
   "outputs": [],
   "source": [
    "df_evaluate=dataframe_filtered[['lat','lng']]"
   ]
  },
  {
   "cell_type": "code",
   "execution_count": 454,
   "metadata": {},
   "outputs": [],
   "source": [
    "RestList=[]\n",
    "latitudes = list(dataframe_filtered.lat)\n",
    "longitudes = list( dataframe_filtered.lng)\n",
    "for lat, lng in zip(latitudes, longitudes):    \n",
    "    radius = 5000 #Set the radius to 5 kilometres for convenience\n",
    "    latitude=lat#Query for the apartment location in question\n",
    "    longitude=lng\n",
    "    url = 'https://api.foursquare.com/v2/venues/search?client_id={}&client_secret={}&ll={},{}&v={}&query={}&radius={}&limit={}'.format(CLIENT_ID, CLIENT_SECRET, latitude, longitude, VERSION, search_query, radius, LIMIT)\n",
    "    search_query = 'Restaurant' #Search for any food related locations\n",
    "    results = requests.get(url).json()\n",
    "    # assign relevant part of JSON to venues\n",
    "    venues = results['response']['venues']\n",
    "    # tranform venues into a dataframe\n",
    "    dataframe2 = json_normalize(venues)\n",
    "    filtered_columns = ['name', 'categories'] + [col for col in dataframe2.columns if col.startswith('location.')] + ['id']\n",
    "    dataframe_filtered2 = dataframe2.loc[:, filtered_columns]\n",
    "    # filter the category for each row\n",
    "    dataframe_filtered2['categories'] = dataframe_filtered2.apply(get_category_type, axis=1)\n",
    "    # clean column names by keeping only last term\n",
    "    dataframe_filtered2.columns = [column.split('.')[-1] for column in dataframe_filtered2.columns]\n",
    "    RestList.append(dataframe_filtered2['categories'].count())\n"
   ]
  },
  {
   "cell_type": "code",
   "execution_count": 476,
   "metadata": {},
   "outputs": [
    {
     "name": "stderr",
     "output_type": "stream",
     "text": [
      "D:\\Anaconda\\lib\\site-packages\\ipykernel_launcher.py:1: SettingWithCopyWarning: \n",
      "A value is trying to be set on a copy of a slice from a DataFrame.\n",
      "Try using .loc[row_indexer,col_indexer] = value instead\n",
      "\n",
      "See the caveats in the documentation: http://pandas.pydata.org/pandas-docs/stable/indexing.html#indexing-view-versus-copy\n",
      "  \"\"\"Entry point for launching an IPython kernel.\n"
     ]
    }
   ],
   "source": [
    "df_evaluate['Restaurants']=RestList"
   ]
  },
  {
   "cell_type": "code",
   "execution_count": 456,
   "metadata": {},
   "outputs": [],
   "source": [
    "FruitList=[]\n",
    "latitudes = list(dataframe_filtered.lat)\n",
    "longitudes = list( dataframe_filtered.lng)\n",
    "for lat, lng in zip(latitudes, longitudes):    \n",
    "    radius = 5000 #Set the radius to 5 kilometres for convenience\n",
    "    latitude=lat#Query for the apartment location in question\n",
    "    longitude=lng\n",
    "    url = 'https://api.foursquare.com/v2/venues/search?client_id={}&client_secret={}&ll={},{}&v={}&query={}&radius={}&limit={}'.format(CLIENT_ID, CLIENT_SECRET, latitude, longitude, VERSION, search_query, radius, LIMIT)\n",
    "    search_query = 'Fruit' #Search for any food related locations\n",
    "    results = requests.get(url).json()\n",
    "    # assign relevant part of JSON to venues\n",
    "    venues = results['response']['venues']\n",
    "    # tranform venues into a dataframe\n",
    "    dataframe2 = json_normalize(venues)\n",
    "    filtered_columns = ['name', 'categories'] + [col for col in dataframe2.columns if col.startswith('location.')] + ['id']\n",
    "    dataframe_filtered2 = dataframe2.loc[:, filtered_columns]\n",
    "    # filter the category for each row\n",
    "    dataframe_filtered2['categories'] = dataframe_filtered2.apply(get_category_type, axis=1)\n",
    "    # clean column names by keeping only last term\n",
    "    dataframe_filtered2.columns = [column.split('.')[-1] for column in dataframe_filtered2.columns]\n",
    "    FruitList.append(dataframe_filtered2['categories'].count())\n"
   ]
  },
  {
   "cell_type": "code",
   "execution_count": 477,
   "metadata": {},
   "outputs": [
    {
     "name": "stderr",
     "output_type": "stream",
     "text": [
      "D:\\Anaconda\\lib\\site-packages\\ipykernel_launcher.py:1: SettingWithCopyWarning: \n",
      "A value is trying to be set on a copy of a slice from a DataFrame.\n",
      "Try using .loc[row_indexer,col_indexer] = value instead\n",
      "\n",
      "See the caveats in the documentation: http://pandas.pydata.org/pandas-docs/stable/indexing.html#indexing-view-versus-copy\n",
      "  \"\"\"Entry point for launching an IPython kernel.\n"
     ]
    }
   ],
   "source": [
    "df_evaluate['Fruits,Vegetables,Groceries']=FruitList"
   ]
  },
  {
   "cell_type": "code",
   "execution_count": 478,
   "metadata": {},
   "outputs": [
    {
     "name": "stderr",
     "output_type": "stream",
     "text": [
      "D:\\Anaconda\\lib\\site-packages\\ipykernel_launcher.py:5: SettingWithCopyWarning: \n",
      "A value is trying to be set on a copy of a slice from a DataFrame.\n",
      "Try using .loc[row_indexer,col_indexer] = value instead\n",
      "\n",
      "See the caveats in the documentation: http://pandas.pydata.org/pandas-docs/stable/indexing.html#indexing-view-versus-copy\n",
      "  \"\"\"\n",
      "D:\\Anaconda\\lib\\site-packages\\ipykernel_launcher.py:6: SettingWithCopyWarning: \n",
      "A value is trying to be set on a copy of a slice from a DataFrame.\n",
      "Try using .loc[row_indexer,col_indexer] = value instead\n",
      "\n",
      "See the caveats in the documentation: http://pandas.pydata.org/pandas-docs/stable/indexing.html#indexing-view-versus-copy\n",
      "  \n"
     ]
    },
    {
     "data": {
      "text/html": [
       "<div>\n",
       "<style scoped>\n",
       "    .dataframe tbody tr th:only-of-type {\n",
       "        vertical-align: middle;\n",
       "    }\n",
       "\n",
       "    .dataframe tbody tr th {\n",
       "        vertical-align: top;\n",
       "    }\n",
       "\n",
       "    .dataframe thead th {\n",
       "        text-align: right;\n",
       "    }\n",
       "</style>\n",
       "<table border=\"1\" class=\"dataframe\">\n",
       "  <thead>\n",
       "    <tr style=\"text-align: right;\">\n",
       "      <th></th>\n",
       "      <th>lat</th>\n",
       "      <th>lng</th>\n",
       "      <th>Restaurants</th>\n",
       "      <th>Fruits,Vegetables,Groceries</th>\n",
       "      <th>Cluster</th>\n",
       "    </tr>\n",
       "  </thead>\n",
       "  <tbody>\n",
       "    <tr>\n",
       "      <th>0</th>\n",
       "      <td>13.000170</td>\n",
       "      <td>77.624545</td>\n",
       "      <td>50</td>\n",
       "      <td>49</td>\n",
       "      <td>0</td>\n",
       "    </tr>\n",
       "    <tr>\n",
       "      <th>1</th>\n",
       "      <td>13.113421</td>\n",
       "      <td>77.568541</td>\n",
       "      <td>23</td>\n",
       "      <td>7</td>\n",
       "      <td>2</td>\n",
       "    </tr>\n",
       "    <tr>\n",
       "      <th>2</th>\n",
       "      <td>13.114882</td>\n",
       "      <td>77.563090</td>\n",
       "      <td>12</td>\n",
       "      <td>4</td>\n",
       "      <td>2</td>\n",
       "    </tr>\n",
       "    <tr>\n",
       "      <th>3</th>\n",
       "      <td>13.039492</td>\n",
       "      <td>77.555590</td>\n",
       "      <td>50</td>\n",
       "      <td>29</td>\n",
       "      <td>1</td>\n",
       "    </tr>\n",
       "    <tr>\n",
       "      <th>5</th>\n",
       "      <td>13.135727</td>\n",
       "      <td>77.572482</td>\n",
       "      <td>13</td>\n",
       "      <td>3</td>\n",
       "      <td>2</td>\n",
       "    </tr>\n",
       "    <tr>\n",
       "      <th>6</th>\n",
       "      <td>13.134563</td>\n",
       "      <td>77.572646</td>\n",
       "      <td>13</td>\n",
       "      <td>3</td>\n",
       "      <td>2</td>\n",
       "    </tr>\n",
       "    <tr>\n",
       "      <th>7</th>\n",
       "      <td>12.979005</td>\n",
       "      <td>77.645620</td>\n",
       "      <td>49</td>\n",
       "      <td>49</td>\n",
       "      <td>0</td>\n",
       "    </tr>\n",
       "    <tr>\n",
       "      <th>8</th>\n",
       "      <td>13.069250</td>\n",
       "      <td>77.595719</td>\n",
       "      <td>49</td>\n",
       "      <td>19</td>\n",
       "      <td>1</td>\n",
       "    </tr>\n",
       "    <tr>\n",
       "      <th>9</th>\n",
       "      <td>13.064801</td>\n",
       "      <td>77.572098</td>\n",
       "      <td>50</td>\n",
       "      <td>18</td>\n",
       "      <td>1</td>\n",
       "    </tr>\n",
       "    <tr>\n",
       "      <th>10</th>\n",
       "      <td>13.063300</td>\n",
       "      <td>77.580675</td>\n",
       "      <td>50</td>\n",
       "      <td>20</td>\n",
       "      <td>1</td>\n",
       "    </tr>\n",
       "  </tbody>\n",
       "</table>\n",
       "</div>"
      ],
      "text/plain": [
       "          lat        lng  Restaurants  Fruits,Vegetables,Groceries Cluster\n",
       "0   13.000170  77.624545           50                           49       0\n",
       "1   13.113421  77.568541           23                            7       2\n",
       "2   13.114882  77.563090           12                            4       2\n",
       "3   13.039492  77.555590           50                           29       1\n",
       "5   13.135727  77.572482           13                            3       2\n",
       "6   13.134563  77.572646           13                            3       2\n",
       "7   12.979005  77.645620           49                           49       0\n",
       "8   13.069250  77.595719           49                           19       1\n",
       "9   13.064801  77.572098           50                           18       1\n",
       "10  13.063300  77.580675           50                           20       1"
      ]
     },
     "execution_count": 478,
     "metadata": {},
     "output_type": "execute_result"
    }
   ],
   "source": [
    "kclusters = 3\n",
    "\n",
    "# run k-means clustering\n",
    "kmeans = KMeans(n_clusters=kclusters, random_state=0).fit(df_evaluate)\n",
    "df_evaluate['Cluster']=kmeans.labels_\n",
    "df_evaluate['Cluster']=df_evaluate['Cluster'].apply(str)\n",
    "df_evaluate.head(10)"
   ]
  },
  {
   "cell_type": "code",
   "execution_count": 482,
   "metadata": {},
   "outputs": [
    {
     "data": {
      "text/html": [
       "<div style=\"width:100%;\"><div style=\"position:relative;width:100%;height:0;padding-bottom:60%;\"><iframe src=\"data:text/html;charset=utf-8;base64,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\" style=\"position:absolute;width:100%;height:100%;left:0;top:0;border:none !important;\" allowfullscreen webkitallowfullscreen mozallowfullscreen></iframe></div></div>"
      ],
      "text/plain": [
       "<folium.folium.Map at 0x1b52a094a20>"
      ]
     },
     "execution_count": 482,
     "metadata": {},
     "output_type": "execute_result"
    }
   ],
   "source": [
    "#define coordinates of the college\n",
    "map_bang=folium.Map(location=[12.971599,77.594566],zoom_start=12)\n",
    "# instantiate a feature group for the incidents in the dataframe\n",
    "locations = folium.map.FeatureGroup()\n",
    "# set color scheme for the clusters\n",
    "def color_producer(cluster):\n",
    "    if cluster=='0':\n",
    "        return 'green'\n",
    "    elif cluster=='1':\n",
    "        return 'orange'\n",
    "    else:\n",
    "        return 'red'\n",
    "latitudes = list(df_evaluate.lat)\n",
    "longitudes = list(df_evaluate.lng)\n",
    "labels = list(df_evaluate.Cluster)\n",
    "names=list(dataframe_filtered.name)\n",
    "for lat, lng, label,names in zip(latitudes, longitudes, labels,names):\n",
    "    folium.CircleMarker(\n",
    "            [lat,lng],\n",
    "            fill=True,\n",
    "            fill_opacity=1,\n",
    "            popup=folium.Popup(names, max_width = 300),\n",
    "            radius=5,\n",
    "            color=color_producer(label)\n",
    "        ).add_to(map_bang)\n",
    "\n",
    "# add locations to map\n",
    "map_bang.add_child(locations)\n",
    "\n",
    "map_bang\n",
    "\n",
    "    "
   ]
  },
  {
   "cell_type": "markdown",
   "metadata": {},
   "source": [
    "Applying K-Means, we find 3 prominent clusters:\n",
    "\n",
    "Cluster 0(Green) Where both (fruits and vegetables) and (restaurants) are abundant\n",
    "\n",
    "Cluster 1(Yellow): Restaurants are plentiful, but groceries less so.\n",
    "\n",
    "Cluster 2(Red): Restaurants and groceries are relatively hard to find."
   ]
  },
  {
   "cell_type": "markdown",
   "metadata": {},
   "source": [
    "Now, one can easily predict where which kind of student will prefer to stay!"
   ]
  },
  {
   "cell_type": "markdown",
   "metadata": {},
   "source": [
    "## Discussion"
   ]
  },
  {
   "cell_type": "markdown",
   "metadata": {},
   "source": [
    "One can easily notice, the further away from the college and the closer to the city centre one gets, the more options one finds for food.\n",
    "\n",
    "The same can be said about other amenities as well.\n",
    "\n",
    "One thing I would like to note is that the foursquare data seems incomplete; Many locations seem to be missing or ill-classified. India definitely needs better locational data sets!\n",
    "\n"
   ]
  },
  {
   "cell_type": "markdown",
   "metadata": {},
   "source": [
    "## Conclusion"
   ]
  },
  {
   "cell_type": "code",
   "execution_count": null,
   "metadata": {},
   "outputs": [],
   "source": []
  }
 ],
 "metadata": {
  "kernelspec": {
   "display_name": "Python 3",
   "language": "python",
   "name": "python3"
  },
  "language_info": {
   "codemirror_mode": {
    "name": "ipython",
    "version": 3
   },
   "file_extension": ".py",
   "mimetype": "text/x-python",
   "name": "python",
   "nbconvert_exporter": "python",
   "pygments_lexer": "ipython3",
   "version": "3.7.3"
  }
 },
 "nbformat": 4,
 "nbformat_minor": 4
}
